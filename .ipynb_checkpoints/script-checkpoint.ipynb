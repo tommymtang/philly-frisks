{
 "cells": [
  {
   "cell_type": "code",
   "execution_count": 1,
   "metadata": {},
   "outputs": [],
   "source": [
    "import numpy as np\n",
    "import pandas as pd\n",
    "import matplotlib.pyplot as plt\n",
    "import seaborn as sns"
   ]
  },
  {
   "cell_type": "code",
   "execution_count": 3,
   "metadata": {},
   "outputs": [],
   "source": [
    "path_to_file = './philly_ped_vehicle.csv' \n",
    "df = pd.read_csv(path_to_file)"
   ]
  },
  {
   "cell_type": "code",
   "execution_count": 4,
   "metadata": {
    "scrolled": true
   },
   "outputs": [],
   "source": [
    "from utils import filter as ft\n",
    "individual_frisk_stops = ft.get_individual_frisk_stops(df)\n",
    "ped_individual_frisk_stops = ft.get_pedestrian_stops(individual_frisk_stops)"
   ]
  },
  {
   "cell_type": "code",
   "execution_count": 6,
   "metadata": {
    "scrolled": true
   },
   "outputs": [
    {
     "data": {
      "text/html": [
       "<div>\n",
       "<style scoped>\n",
       "    .dataframe tbody tr th:only-of-type {\n",
       "        vertical-align: middle;\n",
       "    }\n",
       "\n",
       "    .dataframe tbody tr th {\n",
       "        vertical-align: top;\n",
       "    }\n",
       "\n",
       "    .dataframe thead th {\n",
       "        text-align: right;\n",
       "    }\n",
       "</style>\n",
       "<table border=\"1\" class=\"dataframe\">\n",
       "  <thead>\n",
       "    <tr style=\"text-align: right;\">\n",
       "      <th></th>\n",
       "      <th>the_geom</th>\n",
       "      <th>lng</th>\n",
       "      <th>objectid</th>\n",
       "      <th>id</th>\n",
       "      <th>datetimeoccur</th>\n",
       "      <th>weekday</th>\n",
       "      <th>location</th>\n",
       "      <th>districtoccur</th>\n",
       "      <th>psa</th>\n",
       "      <th>stopcode</th>\n",
       "      <th>...</th>\n",
       "      <th>individual_searched</th>\n",
       "      <th>individual_arrested</th>\n",
       "      <th>individual_contraband</th>\n",
       "      <th>vehicle_frisked</th>\n",
       "      <th>vehicle_searched</th>\n",
       "      <th>vehicle_contraband</th>\n",
       "      <th>point_x</th>\n",
       "      <th>point_y</th>\n",
       "      <th>lat</th>\n",
       "      <th>race</th>\n",
       "    </tr>\n",
       "  </thead>\n",
       "  <tbody>\n",
       "    <tr>\n",
       "      <th>36</th>\n",
       "      <td>0101000020E61000009E0E9EE8BECE52C07C2B33213DF8...</td>\n",
       "      <td>-75.230402</td>\n",
       "      <td>61</td>\n",
       "      <td>500482</td>\n",
       "      <td>2014-10-24 20:00:00</td>\n",
       "      <td>FRIDAY</td>\n",
       "      <td>5700 BLOCK BEAUMONT ST</td>\n",
       "      <td>12.0</td>\n",
       "      <td>121.0</td>\n",
       "      <td>2701</td>\n",
       "      <td>...</td>\n",
       "      <td>0</td>\n",
       "      <td>0</td>\n",
       "      <td>0</td>\n",
       "      <td>0</td>\n",
       "      <td>0</td>\n",
       "      <td>0</td>\n",
       "      <td>-75.230402</td>\n",
       "      <td>39.939366</td>\n",
       "      <td>39.939366</td>\n",
       "      <td>Black - Non-Latino</td>\n",
       "    </tr>\n",
       "    <tr>\n",
       "      <th>63</th>\n",
       "      <td>0101000020E6100000DA91A81F2DC552C016F2EFD0030A...</td>\n",
       "      <td>-75.080879</td>\n",
       "      <td>88</td>\n",
       "      <td>507782</td>\n",
       "      <td>2014-10-24 08:53:00</td>\n",
       "      <td>FRIDAY</td>\n",
       "      <td>500 BLOCK ARTHUR ST</td>\n",
       "      <td>7.0</td>\n",
       "      <td>71.0</td>\n",
       "      <td>2701</td>\n",
       "      <td>...</td>\n",
       "      <td>0</td>\n",
       "      <td>0</td>\n",
       "      <td>0</td>\n",
       "      <td>0</td>\n",
       "      <td>0</td>\n",
       "      <td>0</td>\n",
       "      <td>-75.080879</td>\n",
       "      <td>40.078241</td>\n",
       "      <td>40.078241</td>\n",
       "      <td>White - Non-Latino</td>\n",
       "    </tr>\n",
       "    <tr>\n",
       "      <th>83</th>\n",
       "      <td>0101000020E610000095849F93F9CA52C0DC77772A81FD...</td>\n",
       "      <td>-75.171483</td>\n",
       "      <td>108</td>\n",
       "      <td>435045</td>\n",
       "      <td>2014-09-19 11:57:00</td>\n",
       "      <td>FRIDAY</td>\n",
       "      <td>2200 BLOCK CECIL B MOORE AV</td>\n",
       "      <td>22.0</td>\n",
       "      <td>224.0</td>\n",
       "      <td>2701</td>\n",
       "      <td>...</td>\n",
       "      <td>0</td>\n",
       "      <td>0</td>\n",
       "      <td>0</td>\n",
       "      <td>0</td>\n",
       "      <td>0</td>\n",
       "      <td>0</td>\n",
       "      <td>-75.171483</td>\n",
       "      <td>39.980504</td>\n",
       "      <td>39.980504</td>\n",
       "      <td>Black - Non-Latino</td>\n",
       "    </tr>\n",
       "    <tr>\n",
       "      <th>85</th>\n",
       "      <td>0101000020E6100000FECFC4E837CB52C087B3113ECAFE...</td>\n",
       "      <td>-75.175287</td>\n",
       "      <td>110</td>\n",
       "      <td>545868</td>\n",
       "      <td>2014-11-15 22:48:00</td>\n",
       "      <td>SATURDAY</td>\n",
       "      <td>2300 BLOCK N 26TH ST</td>\n",
       "      <td>22.0</td>\n",
       "      <td>224.0</td>\n",
       "      <td>2701</td>\n",
       "      <td>...</td>\n",
       "      <td>0</td>\n",
       "      <td>0</td>\n",
       "      <td>0</td>\n",
       "      <td>0</td>\n",
       "      <td>0</td>\n",
       "      <td>0</td>\n",
       "      <td>-75.175287</td>\n",
       "      <td>39.990547</td>\n",
       "      <td>39.990547</td>\n",
       "      <td>Black - Non-Latino</td>\n",
       "    </tr>\n",
       "    <tr>\n",
       "      <th>116</th>\n",
       "      <td>0101000020E6100000D3380E9B0CCB52C06F57F9AFBDFD...</td>\n",
       "      <td>-75.172644</td>\n",
       "      <td>45</td>\n",
       "      <td>74867</td>\n",
       "      <td>2014-03-07 16:35:00</td>\n",
       "      <td>FRIDAY</td>\n",
       "      <td>1800 BLOCK JUDSON ST</td>\n",
       "      <td>22.0</td>\n",
       "      <td>221.0</td>\n",
       "      <td>2701</td>\n",
       "      <td>...</td>\n",
       "      <td>0</td>\n",
       "      <td>0</td>\n",
       "      <td>0</td>\n",
       "      <td>0</td>\n",
       "      <td>0</td>\n",
       "      <td>0</td>\n",
       "      <td>-75.172644</td>\n",
       "      <td>39.982351</td>\n",
       "      <td>39.982351</td>\n",
       "      <td>Black - Non-Latino</td>\n",
       "    </tr>\n",
       "  </tbody>\n",
       "</table>\n",
       "<p>5 rows × 26 columns</p>\n",
       "</div>"
      ],
      "text/plain": [
       "                                              the_geom        lng  objectid  \\\n",
       "36   0101000020E61000009E0E9EE8BECE52C07C2B33213DF8... -75.230402        61   \n",
       "63   0101000020E6100000DA91A81F2DC552C016F2EFD0030A... -75.080879        88   \n",
       "83   0101000020E610000095849F93F9CA52C0DC77772A81FD... -75.171483       108   \n",
       "85   0101000020E6100000FECFC4E837CB52C087B3113ECAFE... -75.175287       110   \n",
       "116  0101000020E6100000D3380E9B0CCB52C06F57F9AFBDFD... -75.172644        45   \n",
       "\n",
       "         id        datetimeoccur   weekday                     location  \\\n",
       "36   500482  2014-10-24 20:00:00    FRIDAY       5700 BLOCK BEAUMONT ST   \n",
       "63   507782  2014-10-24 08:53:00    FRIDAY          500 BLOCK ARTHUR ST   \n",
       "83   435045  2014-09-19 11:57:00    FRIDAY  2200 BLOCK CECIL B MOORE AV   \n",
       "85   545868  2014-11-15 22:48:00  SATURDAY         2300 BLOCK N 26TH ST   \n",
       "116   74867  2014-03-07 16:35:00    FRIDAY         1800 BLOCK JUDSON ST   \n",
       "\n",
       "     districtoccur    psa  stopcode         ...         individual_searched  \\\n",
       "36            12.0  121.0      2701         ...                           0   \n",
       "63             7.0   71.0      2701         ...                           0   \n",
       "83            22.0  224.0      2701         ...                           0   \n",
       "85            22.0  224.0      2701         ...                           0   \n",
       "116           22.0  221.0      2701         ...                           0   \n",
       "\n",
       "    individual_arrested individual_contraband vehicle_frisked  \\\n",
       "36                    0                     0               0   \n",
       "63                    0                     0               0   \n",
       "83                    0                     0               0   \n",
       "85                    0                     0               0   \n",
       "116                   0                     0               0   \n",
       "\n",
       "     vehicle_searched  vehicle_contraband    point_x    point_y        lat  \\\n",
       "36                  0                   0 -75.230402  39.939366  39.939366   \n",
       "63                  0                   0 -75.080879  40.078241  40.078241   \n",
       "83                  0                   0 -75.171483  39.980504  39.980504   \n",
       "85                  0                   0 -75.175287  39.990547  39.990547   \n",
       "116                 0                   0 -75.172644  39.982351  39.982351   \n",
       "\n",
       "                   race  \n",
       "36   Black - Non-Latino  \n",
       "63   White - Non-Latino  \n",
       "83   Black - Non-Latino  \n",
       "85   Black - Non-Latino  \n",
       "116  Black - Non-Latino  \n",
       "\n",
       "[5 rows x 26 columns]"
      ]
     },
     "execution_count": 6,
     "metadata": {},
     "output_type": "execute_result"
    }
   ],
   "source": [
    "# identify input variables\n",
    "# subset out by column\n",
    "# clean nulls if necessary\n",
    "# transform as input to model"
   ]
  },
  {
   "cell_type": "code",
   "execution_count": 12,
   "metadata": {},
   "outputs": [
    {
     "data": {
      "text/plain": [
       "the_geom                                 NaN\n",
       "lng                                      NaN\n",
       "objectid                                 113\n",
       "id                                     42358\n",
       "datetimeoccur            2014-02-22 21:30:00\n",
       "weekday                             SATURDAY\n",
       "location                    B/C DEPARTURE RD\n",
       "districtoccur                             77\n",
       "psa                                     7700\n",
       "stopcode                                2701\n",
       "stoptype                          pedestrian\n",
       "inside_or_outside                     Inside\n",
       "gender                                  Male\n",
       "the_geom_webmercator                     NaN\n",
       "age                                       48\n",
       "individual_frisked                         0\n",
       "individual_searched                        0\n",
       "individual_arrested                        0\n",
       "individual_contraband                      0\n",
       "vehicle_frisked                            0\n",
       "vehicle_searched                           0\n",
       "vehicle_contraband                         0\n",
       "point_x                                  NaN\n",
       "point_y                                  NaN\n",
       "lat                                      NaN\n",
       "race                      White - Non-Latino\n",
       "Name: 88, dtype: object"
      ]
     },
     "execution_count": 12,
     "metadata": {},
     "output_type": "execute_result"
    }
   ],
   "source": [
    "df.iloc[88,]"
   ]
  },
  {
   "cell_type": "code",
   "execution_count": 5,
   "metadata": {},
   "outputs": [],
   "source": [
    "\n",
    "input_variables =['weekday', 'datetimeoccur', 'lng','lat', 'districtoccur','psa',\n",
    "                 'inside_or_outside','gender','age','race']"
   ]
  },
  {
   "cell_type": "code",
   "execution_count": 28,
   "metadata": {},
   "outputs": [
    {
     "data": {
      "text/plain": [
       "0"
      ]
     },
     "execution_count": 28,
     "metadata": {},
     "output_type": "execute_result"
    }
   ],
   "source": [
    "gender = df['gender']\n",
    "sum(gender.values == \"\")"
   ]
  },
  {
   "cell_type": "code",
   "execution_count": 30,
   "metadata": {},
   "outputs": [
    {
     "data": {
      "text/plain": [
       "nan"
      ]
     },
     "execution_count": 30,
     "metadata": {},
     "output_type": "execute_result"
    }
   ],
   "source": [
    "gender[157801]"
   ]
  },
  {
   "cell_type": "code",
   "execution_count": 8,
   "metadata": {},
   "outputs": [
    {
     "ename": "AttributeError",
     "evalue": "module 'utils.filter' has no attribute 'dropna'",
     "output_type": "error",
     "traceback": [
      "\u001b[0;31m---------------------------------------------------------------------------\u001b[0m",
      "\u001b[0;31mAttributeError\u001b[0m                            Traceback (most recent call last)",
      "\u001b[0;32m<ipython-input-8-53928ec5d201>\u001b[0m in \u001b[0;36m<module>\u001b[0;34m()\u001b[0m\n\u001b[1;32m      1\u001b[0m \u001b[0;32mfrom\u001b[0m \u001b[0mutils\u001b[0m \u001b[0;32mimport\u001b[0m \u001b[0mfilter\u001b[0m \u001b[0;32mas\u001b[0m \u001b[0mft\u001b[0m\u001b[0;34m\u001b[0m\u001b[0m\n\u001b[0;32m----> 2\u001b[0;31m \u001b[0mcleaned_df\u001b[0m \u001b[0;34m=\u001b[0m \u001b[0mft\u001b[0m\u001b[0;34m.\u001b[0m\u001b[0mdropna\u001b[0m\u001b[0;34m(\u001b[0m\u001b[0;34m)\u001b[0m\u001b[0;34m\u001b[0m\u001b[0m\n\u001b[0m\u001b[1;32m      3\u001b[0m \u001b[0mnrows\u001b[0m\u001b[0;34m(\u001b[0m\u001b[0mcleaned_df\u001b[0m\u001b[0;34m)\u001b[0m \u001b[0;34m/\u001b[0m \u001b[0mnrows\u001b[0m\u001b[0;34m(\u001b[0m\u001b[0mdf\u001b[0m\u001b[0;34m)\u001b[0m\u001b[0;34m\u001b[0m\u001b[0m\n",
      "\u001b[0;31mAttributeError\u001b[0m: module 'utils.filter' has no attribute 'dropna'"
     ]
    }
   ],
   "source": [
    "from utils import filter as ft\n",
    "cleaned_df = df.dropna()\n",
    "nrows(cleaned_df) / nrows(df)\n"
   ]
  },
  {
   "cell_type": "code",
   "execution_count": null,
   "metadata": {},
   "outputs": [],
   "source": []
  }
 ],
 "metadata": {
  "kernelspec": {
   "display_name": "Python 3",
   "language": "python",
   "name": "python3"
  },
  "language_info": {
   "codemirror_mode": {
    "name": "ipython",
    "version": 3
   },
   "file_extension": ".py",
   "mimetype": "text/x-python",
   "name": "python",
   "nbconvert_exporter": "python",
   "pygments_lexer": "ipython3",
   "version": "3.6.4"
  }
 },
 "nbformat": 4,
 "nbformat_minor": 2
}
