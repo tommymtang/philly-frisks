{
 "cells": [
  {
   "cell_type": "code",
   "execution_count": 1,
   "metadata": {},
   "outputs": [],
   "source": [
    "import numpy as np\n",
    "import pandas as pd\n",
    "import matplotlib.pyplot as plt\n",
    "import seaborn as sns\n",
    "import scipy as sp"
   ]
  },
  {
   "cell_type": "code",
   "execution_count": 2,
   "metadata": {},
   "outputs": [],
   "source": [
    "path_to_file = './philly_ped_vehicle.csv' \n",
    "df = pd.read_csv(path_to_file)"
   ]
  },
  {
   "cell_type": "code",
   "execution_count": 3,
   "metadata": {
    "scrolled": true
   },
   "outputs": [
    {
     "name": "stderr",
     "output_type": "stream",
     "text": [
      "/Users/tommytang/Documents/Data_Science_Projects/philly-frisks/utils/preprocess.py:74: RuntimeWarning: invalid value encountered in true_divide\n",
      "  return np.divide(blurred_success, blurred_indicator)\n"
     ]
    }
   ],
   "source": [
    "from utils import filter as ft\n",
    "from utils import preprocess as ppr\n",
    "df_no_nans = ft.all_filters_for_input(df)   # performs all filtering of row data (many rows deleted). not yet\n",
    "                                            # removed columns or added feature columns\n",
    "df_no_nans_add_success = ppr.add_success_column(df_no_nans)\n",
    "local_hit_rate_input = ppr.get_local_hit_rate_input(df_no_nans_add_success)    \n",
    "lhr_map = ppr.get_local_hit_rate_map(local_hit_rate_input)\n",
    "\n",
    "input_variables =['weekday', 'datetimeoccur', 'lng','lat', 'districtoccur','psa',\n",
    "                 'inside_or_outside','gender','age','race']"
   ]
  },
  {
   "cell_type": "code",
   "execution_count": null,
   "metadata": {
    "scrolled": true
   },
   "outputs": [],
   "source": [
    "# identify input variables\n",
    "# subset out by column\n",
    "# clean nulls if necessary\n",
    "# transform as input to model"
   ]
  },
  {
   "cell_type": "code",
   "execution_count": 7,
   "metadata": {},
   "outputs": [
    {
     "data": {
      "text/plain": [
       "array([[0.53112715, 0.52659543, 0.51959445, ..., 0.        , 0.        ,\n",
       "        0.        ],\n",
       "       [0.52318369, 0.5188357 , 0.51211883, ..., 0.        , 0.        ,\n",
       "        0.        ],\n",
       "       [0.50777625, 0.50378393, 0.49761706, ..., 0.        , 0.        ,\n",
       "        0.        ],\n",
       "       ...,\n",
       "       [0.        , 0.        , 0.        , ..., 0.15201735, 0.12608684,\n",
       "        0.10771424],\n",
       "       [0.        , 0.        , 0.        , ..., 0.15206182, 0.12169522,\n",
       "        0.09930008],\n",
       "       [0.        , 0.        , 0.        , ..., 0.15270705, 0.11887288,\n",
       "        0.09329934]])"
      ]
     },
     "execution_count": 7,
     "metadata": {},
     "output_type": "execute_result"
    }
   ],
   "source": [
    "np.nan_to_num(lhr_map)"
   ]
  },
  {
   "cell_type": "code",
   "execution_count": 8,
   "metadata": {},
   "outputs": [
    {
     "data": {
      "text/plain": [
       "array([[0.53112715, 0.52659543, 0.51959445, ...,        nan,        nan,\n",
       "               nan],\n",
       "       [0.52318369, 0.5188357 , 0.51211883, ...,        nan,        nan,\n",
       "               nan],\n",
       "       [0.50777625, 0.50378393, 0.49761706, ...,        nan,        nan,\n",
       "               nan],\n",
       "       ...,\n",
       "       [       nan,        nan,        nan, ..., 0.15201735, 0.12608684,\n",
       "        0.10771424],\n",
       "       [       nan,        nan,        nan, ..., 0.15206182, 0.12169522,\n",
       "        0.09930008],\n",
       "       [       nan,        nan,        nan, ..., 0.15270705, 0.11887288,\n",
       "        0.09329934]])"
      ]
     },
     "execution_count": 8,
     "metadata": {},
     "output_type": "execute_result"
    }
   ],
   "source": []
  },
  {
   "cell_type": "code",
   "execution_count": 11,
   "metadata": {},
   "outputs": [
    {
     "data": {
      "text/plain": [
       "1.0"
      ]
     },
     "execution_count": 11,
     "metadata": {},
     "output_type": "execute_result"
    }
   ],
   "source": [
    "max(local_hit_rate_input[:,2])"
   ]
  },
  {
   "cell_type": "code",
   "execution_count": 7,
   "metadata": {},
   "outputs": [],
   "source": [
    "file_name = 'philly-stops-clean.csv'\n",
    "df_no_nans_add_success.to_csv(file_name, index=False)"
   ]
  },
  {
   "cell_type": "code",
   "execution_count": 6,
   "metadata": {},
   "outputs": [],
   "source": [
    "pointx = local_hit_rate_input[:,0]"
   ]
  },
  {
   "cell_type": "code",
   "execution_count": 16,
   "metadata": {},
   "outputs": [
    {
     "data": {
      "text/plain": [
       "-75.27301907"
      ]
     },
     "execution_count": 16,
     "metadata": {},
     "output_type": "execute_result"
    }
   ],
   "source": [
    "min(pointx)"
   ]
  },
  {
   "cell_type": "code",
   "execution_count": 17,
   "metadata": {},
   "outputs": [
    {
     "data": {
      "text/plain": [
       "-74.95883739"
      ]
     },
     "execution_count": 17,
     "metadata": {},
     "output_type": "execute_result"
    }
   ],
   "source": [
    "max(pointx)"
   ]
  },
  {
   "cell_type": "code",
   "execution_count": 9,
   "metadata": {},
   "outputs": [],
   "source": [
    "lhr_input = pd.DataFrame(local_hit_rate_input)"
   ]
  },
  {
   "cell_type": "code",
   "execution_count": 11,
   "metadata": {},
   "outputs": [],
   "source": [
    "lhr_input.to_csv('lhr_input', index=False)"
   ]
  },
  {
   "cell_type": "code",
   "execution_count": 30,
   "metadata": {},
   "outputs": [],
   "source": [
    "lhr = local_hit_rate_input.copy()"
   ]
  },
  {
   "cell_type": "code",
   "execution_count": 31,
   "metadata": {},
   "outputs": [
    {
     "data": {
      "text/plain": [
       "array([[-75.23040214,  39.93936553,   0.        ],\n",
       "       [-75.08087913,  40.07824146,   0.        ],\n",
       "       [-75.17148295,  39.98050433,   0.        ],\n",
       "       ...,\n",
       "       [-75.16364879,  40.03121862,   0.        ],\n",
       "       [-75.21679953,  39.93796852,   0.        ],\n",
       "       [-75.15395935,  40.01590183,   0.        ]])"
      ]
     },
     "execution_count": 31,
     "metadata": {},
     "output_type": "execute_result"
    }
   ],
   "source": [
    "lhr"
   ]
  },
  {
   "cell_type": "code",
   "execution_count": 36,
   "metadata": {},
   "outputs": [],
   "source": [
    "a = lhr[:,1].copy()"
   ]
  },
  {
   "cell_type": "code",
   "execution_count": 38,
   "metadata": {},
   "outputs": [
    {
     "data": {
      "text/plain": [
       "array([399.3936553, 400.7824146, 399.8050433, ..., 400.3121862,\n",
       "       399.3796852, 400.1590183])"
      ]
     },
     "execution_count": 38,
     "metadata": {},
     "output_type": "execute_result"
    }
   ],
   "source": [
    "a * 10"
   ]
  },
  {
   "cell_type": "code",
   "execution_count": 39,
   "metadata": {},
   "outputs": [
    {
     "data": {
      "text/plain": [
       "array([39.93936553, 40.07824146, 39.98050433, ..., 40.03121862,\n",
       "       39.93796852, 40.01590183])"
      ]
     },
     "execution_count": 39,
     "metadata": {},
     "output_type": "execute_result"
    }
   ],
   "source": [
    "lhr[:,1]"
   ]
  },
  {
   "cell_type": "code",
   "execution_count": 46,
   "metadata": {},
   "outputs": [],
   "source": [
    "a = np.array([[1,1],[2,2]])"
   ]
  },
  {
   "cell_type": "code",
   "execution_count": 47,
   "metadata": {},
   "outputs": [
    {
     "data": {
      "text/plain": [
       "6"
      ]
     },
     "execution_count": 47,
     "metadata": {},
     "output_type": "execute_result"
    }
   ],
   "source": [
    "np.sum(a)"
   ]
  },
  {
   "cell_type": "code",
   "execution_count": null,
   "metadata": {},
   "outputs": [],
   "source": []
  }
 ],
 "metadata": {
  "kernelspec": {
   "display_name": "Python 3",
   "language": "python",
   "name": "python3"
  },
  "language_info": {
   "codemirror_mode": {
    "name": "ipython",
    "version": 3
   },
   "file_extension": ".py",
   "mimetype": "text/x-python",
   "name": "python",
   "nbconvert_exporter": "python",
   "pygments_lexer": "ipython3",
   "version": "3.6.4"
  }
 },
 "nbformat": 4,
 "nbformat_minor": 2
}
