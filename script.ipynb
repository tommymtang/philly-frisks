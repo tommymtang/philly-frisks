{
 "cells": [
  {
   "cell_type": "code",
   "execution_count": 29,
   "metadata": {},
   "outputs": [],
   "source": [
    "import numpy as np\n",
    "import pandas as pd\n",
    "import matplotlib.pyplot as plt\n",
    "import seaborn as sns\n",
    "import scipy as sp\n",
    "from scipy.ndimage import gaussian_filter"
   ]
  },
  {
   "cell_type": "code",
   "execution_count": 30,
   "metadata": {},
   "outputs": [],
   "source": [
    "path_to_file = './philly_ped_vehicle.csv' \n",
    "df = pd.read_csv(path_to_file)"
   ]
  },
  {
   "cell_type": "code",
   "execution_count": 136,
   "metadata": {
    "scrolled": true
   },
   "outputs": [
    {
     "name": "stderr",
     "output_type": "stream",
     "text": [
      "/Users/tommytang/Documents/Data_Science_Projects/philly-frisks/utils/preprocess.py:68: RuntimeWarning: invalid value encountered in true_divide\n",
      "  return np.divide(blurred_success, blurred_indicator)\n"
     ]
    }
   ],
   "source": [
    "from utils import filter as ft\n",
    "from utils import preprocess as ppr\n",
    "\n",
    "preprocess_variables =['weekday', 'datetimeoccur', 'point_x','point_y', 'districtoccur','psa',\n",
    "                 'inside_or_outside','gender','age','race', 'success']\n",
    "\n",
    "df_no_nans = ft.filter_for_input_all(df)   # performs all filtering of row data (many rows deleted). not yet\n",
    "                                            # removed columns or added feature columns\n",
    "df_no_nans_add_success = ppr.add_success_column(df_no_nans)\n",
    "df_no_nans_add_success = df_no_nans_add_success[preprocess_variables].copy() # \n",
    "df_all_preprocess = ppr.add_local_hit_rate(df_no_nans_add_success)\n",
    "df_all_preprocess = df_all_preprocess.reset_index(drop = True)\n",
    "df_input = df_all_preprocess.copy()"
   ]
  },
  {
   "cell_type": "code",
   "execution_count": 37,
   "metadata": {},
   "outputs": [],
   "source": [
    "input_column_names = ['weekday', 'datetimeoccur','districtoccur','psa',\n",
    "                        'inside_or_outside','gender','age','race','success', 'local_hit_rate']"
   ]
  },
  {
   "cell_type": "code",
   "execution_count": 38,
   "metadata": {},
   "outputs": [],
   "source": [
    "# We convert input with the following: \n",
    "# from datetimeoccur we extract time of day, divided up into four hour-bins\n",
    "# psa and districtoccur are encoded in indicator variables\n",
    "# inside_or_outisde, gender, race all indicator variables\n",
    "# local_hit_rate, a continuous variable "
   ]
  },
  {
   "cell_type": "code",
   "execution_count": 41,
   "metadata": {},
   "outputs": [],
   "source": [
    "import tensorflow as tf\n",
    "\n",
    "from tensorflow import keras\n",
    "\n",
    "from keras.layers import Dense, Activation, Dropout, Flatten, Input\n",
    "from keras.layers import Embedding, Conv1D, MaxPooling1D, GlobalMaxPooling1D, GlobalAveragePooling1D\n",
    "from keras.models import Model, Sequential \n",
    "from keras.layers.recurrent import LSTM\n",
    "\n",
    "from keras import backend as K\n",
    "\n",
    "from keras.layers.merge import concatenate\n",
    "from keras.utils import plot_model"
   ]
  },
  {
   "cell_type": "code",
   "execution_count": 185,
   "metadata": {},
   "outputs": [],
   "source": [
    "from tensorflow import feature_column\n",
    "from keras.utils import to_categorical\n",
    "import datetime as dt\n",
    "import time"
   ]
  },
  {
   "cell_type": "code",
   "execution_count": null,
   "metadata": {},
   "outputs": [],
   "source": [
    "# for categorical data, first convert to integers, then user keras to convert to one-hot"
   ]
  },
  {
   "cell_type": "code",
   "execution_count": 126,
   "metadata": {},
   "outputs": [],
   "source": [
    "def map_categorical_to_onehot(cat_data):\n",
    "    # data is assumed to be a pandas series, ie\n",
    "    data_to_integer_object = pd.factorize(cat_data.copy())\n",
    "    data_to_integer = data_to_integer_object[0]\n",
    "    return to_categorical(data_to_integer)\n",
    "    "
   ]
  },
  {
   "cell_type": "code",
   "execution_count": 256,
   "metadata": {},
   "outputs": [],
   "source": [
    "def bucketize_timeoccur(time_occur, num_buckets = 8):\n",
    "    num_hours_bucket = 24 / num_buckets\n",
    "    bucket_iterator = pd.Timedelta(hours=num_hours_bucket)\n",
    "    for ibucket in range(num_buckets):\n",
    "        ibucket_time = (dt.datetime.min + ibucket * bucket_iterator).time()\n",
    "        if time_occur < ibucket_time:\n",
    "            return ibucket \n",
    "    return num_buckets\n",
    "\n",
    "def bucketize_timeoccur_series(time_occur_series, num_buckets = 8): \n",
    "    # works on a series (pandas dataframe column) that is the time of a datetime object\n",
    "    return time_occur_series.apply(bucketize_timeoccur, args = (num_buckets,))\n",
    "    \n",
    "        \n",
    "    \n",
    "    "
   ]
  },
  {
   "cell_type": "code",
   "execution_count": 137,
   "metadata": {},
   "outputs": [],
   "source": [
    "NUM_TRAIN_ROWS = 100\n",
    "categorical_data_colnames = ['weekday', 'districtoccur','inside_or_outside','gender','race']"
   ]
  },
  {
   "cell_type": "code",
   "execution_count": 120,
   "metadata": {},
   "outputs": [],
   "source": [
    "#TO DO: explore psa in districtoccur\n",
    "#bucketize age, datetimeoccur"
   ]
  },
  {
   "cell_type": "code",
   "execution_count": 138,
   "metadata": {},
   "outputs": [],
   "source": [
    "for colname in categorical_data_colnames:\n",
    "    cat_data = df_input[colname]\n",
    "    df_input[colname] = map_categorical_to_onehot(cat_data)\n",
    "\n",
    "train_cat = df_input[categorical_data_colnames].values[:NUM_TRAIN_ROWS]"
   ]
  },
  {
   "cell_type": "code",
   "execution_count": 145,
   "metadata": {},
   "outputs": [
    {
     "data": {
      "text/plain": [
       "array([0, 0, 0, ..., 0, 1, 1])"
      ]
     },
     "execution_count": 145,
     "metadata": {},
     "output_type": "execute_result"
    }
   ],
   "source": [
    "wd_fc"
   ]
  },
  {
   "cell_type": "code",
   "execution_count": 144,
   "metadata": {},
   "outputs": [
    {
     "data": {
      "text/plain": [
       "array([1., 0., 0., 0., 0., 0., 0.])"
      ]
     },
     "execution_count": 144,
     "metadata": {},
     "output_type": "execute_result"
    }
   ],
   "source": [
    "wd[1]"
   ]
  },
  {
   "cell_type": "code",
   "execution_count": 141,
   "metadata": {},
   "outputs": [],
   "source": [
    "test = df_input['weekday']"
   ]
  },
  {
   "cell_type": "code",
   "execution_count": 153,
   "metadata": {},
   "outputs": [],
   "source": [
    "dto = df_input['datetimeoccur']"
   ]
  },
  {
   "cell_type": "code",
   "execution_count": 150,
   "metadata": {},
   "outputs": [
    {
     "data": {
      "text/plain": [
       "array([[1., 0., 0., ..., 0., 0., 0.],\n",
       "       [1., 0., 0., ..., 0., 0., 0.],\n",
       "       [1., 0., 0., ..., 0., 0., 0.],\n",
       "       ...,\n",
       "       [1., 0., 0., ..., 0., 0., 0.],\n",
       "       [0., 1., 0., ..., 0., 0., 0.],\n",
       "       [0., 1., 0., ..., 0., 0., 0.]])"
      ]
     },
     "execution_count": 150,
     "metadata": {},
     "output_type": "execute_result"
    }
   ],
   "source": [
    "map_categorical_to_onehot(df_all_preprocess['weekday'])"
   ]
  },
  {
   "cell_type": "code",
   "execution_count": 151,
   "metadata": {},
   "outputs": [],
   "source": [
    "df_input['weekday'] = map_categorical_to_onehot(df_all_preprocess['weekday'])"
   ]
  },
  {
   "cell_type": "code",
   "execution_count": 158,
   "metadata": {},
   "outputs": [
    {
     "data": {
      "text/plain": [
       "0    2014-10-24 20:00:00\n",
       "1    2014-10-24 08:53:00\n",
       "2    2014-09-19 11:57:00\n",
       "3    2014-11-15 22:48:00\n",
       "4    2014-03-07 16:35:00\n",
       "Name: datetimeoccur, dtype: object"
      ]
     },
     "execution_count": 158,
     "metadata": {},
     "output_type": "execute_result"
    }
   ],
   "source": [
    "dto.head()"
   ]
  },
  {
   "cell_type": "code",
   "execution_count": 197,
   "metadata": {},
   "outputs": [],
   "source": [
    "datetimeoccur = pd.to_datetime(dto)\n",
    "month_occur = datetimeoccur.copy().dt.month\n",
    "time_occur = datetimeoccur.copy().dt.time\n",
    "t = time_occur[2]"
   ]
  },
  {
   "cell_type": "code",
   "execution_count": 202,
   "metadata": {},
   "outputs": [],
   "source": [
    "t = datetimeoccur[2]"
   ]
  },
  {
   "cell_type": "code",
   "execution_count": 207,
   "metadata": {},
   "outputs": [],
   "source": [
    "t1 = time_occur[2]\n",
    "t3 = time_occur[3]"
   ]
  },
  {
   "cell_type": "code",
   "execution_count": 212,
   "metadata": {},
   "outputs": [
    {
     "data": {
      "text/plain": [
       "True"
      ]
     },
     "execution_count": 212,
     "metadata": {},
     "output_type": "execute_result"
    }
   ],
   "source": [
    "t3>t1"
   ]
  },
  {
   "cell_type": "code",
   "execution_count": 209,
   "metadata": {},
   "outputs": [
    {
     "data": {
      "text/plain": [
       "datetime.time(11, 57)"
      ]
     },
     "execution_count": 209,
     "metadata": {},
     "output_type": "execute_result"
    }
   ],
   "source": [
    "t1"
   ]
  },
  {
   "cell_type": "code",
   "execution_count": 211,
   "metadata": {},
   "outputs": [
    {
     "data": {
      "text/plain": [
       "True"
      ]
     },
     "execution_count": 211,
     "metadata": {},
     "output_type": "execute_result"
    }
   ],
   "source": [
    "test2 > test1"
   ]
  },
  {
   "cell_type": "code",
   "execution_count": 195,
   "metadata": {},
   "outputs": [
    {
     "data": {
      "text/plain": [
       "datetime.datetime(10, 1, 1, 0, 0)"
      ]
     },
     "execution_count": 195,
     "metadata": {},
     "output_type": "execute_result"
    }
   ],
   "source": [
    "test1"
   ]
  },
  {
   "cell_type": "code",
   "execution_count": 214,
   "metadata": {},
   "outputs": [],
   "source": [
    "a = dt.time(6, 3)"
   ]
  },
  {
   "cell_type": "code",
   "execution_count": 222,
   "metadata": {},
   "outputs": [],
   "source": [
    "num_buckets = 8\n",
    "num_hours_bucket = 24 / num_buckets\n",
    "bucket_iterator = pd.Timedelta(hours=num_hours_bucket)"
   ]
  },
  {
   "cell_type": "code",
   "execution_count": 223,
   "metadata": {},
   "outputs": [
    {
     "data": {
      "text/plain": [
       "Timedelta('0 days 03:00:00')"
      ]
     },
     "execution_count": 223,
     "metadata": {},
     "output_type": "execute_result"
    }
   ],
   "source": [
    "bucket_iterator"
   ]
  },
  {
   "cell_type": "code",
   "execution_count": 240,
   "metadata": {},
   "outputs": [
    {
     "data": {
      "text/plain": [
       "Timedelta('0 days 15:00:00')"
      ]
     },
     "execution_count": 240,
     "metadata": {},
     "output_type": "execute_result"
    }
   ],
   "source": [
    "5*bucket_iterator"
   ]
  },
  {
   "cell_type": "code",
   "execution_count": 233,
   "metadata": {},
   "outputs": [
    {
     "name": "stdout",
     "output_type": "stream",
     "text": [
      "0\n",
      "1\n",
      "2\n"
     ]
    }
   ],
   "source": [
    "for i in range(3):\n",
    "    print(i)"
   ]
  },
  {
   "cell_type": "code",
   "execution_count": 230,
   "metadata": {},
   "outputs": [
    {
     "ename": "TypeError",
     "evalue": "'type' object is not subscriptable",
     "output_type": "error",
     "traceback": [
      "\u001b[0;31m---------------------------------------------------------------------------\u001b[0m",
      "\u001b[0;31mTypeError\u001b[0m                                 Traceback (most recent call last)",
      "\u001b[0;32m<ipython-input-230-ed36e756aa63>\u001b[0m in \u001b[0;36m<module>\u001b[0;34m()\u001b[0m\n\u001b[0;32m----> 1\u001b[0;31m \u001b[0menumerate\u001b[0m\u001b[0;34m[\u001b[0m\u001b[0;36m3\u001b[0m\u001b[0;34m]\u001b[0m\u001b[0;34m\u001b[0m\u001b[0m\n\u001b[0m",
      "\u001b[0;31mTypeError\u001b[0m: 'type' object is not subscriptable"
     ]
    }
   ],
   "source": [
    "enumerate[3]"
   ]
  },
  {
   "cell_type": "code",
   "execution_count": 257,
   "metadata": {},
   "outputs": [],
   "source": [
    "test = bucketize_timeoccur_series(time_occur, 8)"
   ]
  },
  {
   "cell_type": "code",
   "execution_count": 252,
   "metadata": {},
   "outputs": [
    {
     "name": "stdout",
     "output_type": "stream",
     "text": [
      "00:00:00\n",
      "03:00:00\n",
      "06:00:00\n",
      "09:00:00\n",
      "12:00:00\n"
     ]
    },
    {
     "data": {
      "text/plain": [
       "4"
      ]
     },
     "execution_count": 252,
     "metadata": {},
     "output_type": "execute_result"
    }
   ],
   "source": [
    "bucketize_timeoccur(t1, 8)"
   ]
  },
  {
   "cell_type": "code",
   "execution_count": 258,
   "metadata": {},
   "outputs": [
    {
     "data": {
      "text/plain": [
       "0        7\n",
       "1        3\n",
       "2        4\n",
       "3        8\n",
       "4        6\n",
       "5        8\n",
       "6        5\n",
       "7        8\n",
       "8        8\n",
       "9        7\n",
       "10       7\n",
       "11       6\n",
       "12       6\n",
       "13       1\n",
       "14       1\n",
       "15       3\n",
       "16       7\n",
       "17       7\n",
       "18       7\n",
       "19       8\n",
       "20       6\n",
       "21       8\n",
       "22       5\n",
       "23       5\n",
       "24       7\n",
       "25       7\n",
       "26       2\n",
       "27       2\n",
       "28       7\n",
       "29       7\n",
       "        ..\n",
       "97733    4\n",
       "97734    5\n",
       "97735    1\n",
       "97736    1\n",
       "97737    1\n",
       "97738    7\n",
       "97739    7\n",
       "97740    7\n",
       "97741    4\n",
       "97742    6\n",
       "97743    6\n",
       "97744    7\n",
       "97745    1\n",
       "97746    8\n",
       "97747    8\n",
       "97748    6\n",
       "97749    4\n",
       "97750    7\n",
       "97751    4\n",
       "97752    6\n",
       "97753    4\n",
       "97754    1\n",
       "97755    1\n",
       "97756    1\n",
       "97757    6\n",
       "97758    6\n",
       "97759    8\n",
       "97760    8\n",
       "97761    5\n",
       "97762    1\n",
       "Name: datetimeoccur, Length: 97763, dtype: int64"
      ]
     },
     "execution_count": 258,
     "metadata": {},
     "output_type": "execute_result"
    }
   ],
   "source": [
    "test"
   ]
  },
  {
   "cell_type": "code",
   "execution_count": null,
   "metadata": {},
   "outputs": [],
   "source": []
  }
 ],
 "metadata": {
  "kernelspec": {
   "display_name": "Python 3",
   "language": "python",
   "name": "python3"
  },
  "language_info": {
   "codemirror_mode": {
    "name": "ipython",
    "version": 3
   },
   "file_extension": ".py",
   "mimetype": "text/x-python",
   "name": "python",
   "nbconvert_exporter": "python",
   "pygments_lexer": "ipython3",
   "version": "3.6.4"
  }
 },
 "nbformat": 4,
 "nbformat_minor": 2
}
